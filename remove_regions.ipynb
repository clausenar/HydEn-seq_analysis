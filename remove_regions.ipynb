{
 "cells": [
  {
   "cell_type": "code",
   "execution_count": 153,
   "id": "0d136e25-36ce-47f6-ba1e-080d2a7ae781",
   "metadata": {},
   "outputs": [],
   "source": [
    "import pandas as pd\n"
   ]
  },
  {
   "cell_type": "code",
   "execution_count": 162,
   "id": "5b12d064-23c8-4b39-988b-ae090aeadcdd",
   "metadata": {},
   "outputs": [],
   "source": [
    "bed=pd.read_csv(\"uniq.yeast.Pol1YA.rnh201.1.GSM1521156.SRR1609193_forward.bedgraph\",sep=\"\\t\",skiprows=1,header=None)"
   ]
  },
  {
   "cell_type": "code",
   "execution_count": 163,
   "id": "c0c408d5-3edb-4289-abbf-2a931f1a39d0",
   "metadata": {},
   "outputs": [
    {
     "data": {
      "text/html": [
       "<div>\n",
       "<style scoped>\n",
       "    .dataframe tbody tr th:only-of-type {\n",
       "        vertical-align: middle;\n",
       "    }\n",
       "\n",
       "    .dataframe tbody tr th {\n",
       "        vertical-align: top;\n",
       "    }\n",
       "\n",
       "    .dataframe thead th {\n",
       "        text-align: right;\n",
       "    }\n",
       "</style>\n",
       "<table border=\"1\" class=\"dataframe\">\n",
       "  <thead>\n",
       "    <tr style=\"text-align: right;\">\n",
       "      <th></th>\n",
       "      <th>0</th>\n",
       "      <th>1</th>\n",
       "      <th>2</th>\n",
       "      <th>3</th>\n",
       "    </tr>\n",
       "  </thead>\n",
       "  <tbody>\n",
       "    <tr>\n",
       "      <th>0</th>\n",
       "      <td>chrI</td>\n",
       "      <td>0</td>\n",
       "      <td>0</td>\n",
       "      <td>17</td>\n",
       "    </tr>\n",
       "    <tr>\n",
       "      <th>1</th>\n",
       "      <td>chrI</td>\n",
       "      <td>1</td>\n",
       "      <td>1</td>\n",
       "      <td>15</td>\n",
       "    </tr>\n",
       "    <tr>\n",
       "      <th>2</th>\n",
       "      <td>chrI</td>\n",
       "      <td>2</td>\n",
       "      <td>2</td>\n",
       "      <td>6</td>\n",
       "    </tr>\n",
       "    <tr>\n",
       "      <th>3</th>\n",
       "      <td>chrI</td>\n",
       "      <td>3</td>\n",
       "      <td>3</td>\n",
       "      <td>20</td>\n",
       "    </tr>\n",
       "    <tr>\n",
       "      <th>4</th>\n",
       "      <td>chrI</td>\n",
       "      <td>4</td>\n",
       "      <td>4</td>\n",
       "      <td>12</td>\n",
       "    </tr>\n",
       "  </tbody>\n",
       "</table>\n",
       "</div>"
      ],
      "text/plain": [
       "      0  1  2   3\n",
       "0  chrI  0  0  17\n",
       "1  chrI  1  1  15\n",
       "2  chrI  2  2   6\n",
       "3  chrI  3  3  20\n",
       "4  chrI  4  4  12"
      ]
     },
     "execution_count": 163,
     "metadata": {},
     "output_type": "execute_result"
    }
   ],
   "source": [
    "bed.head()"
   ]
  },
  {
   "cell_type": "code",
   "execution_count": 164,
   "id": "98771a68-7d55-4858-992b-f8978caa72a1",
   "metadata": {},
   "outputs": [
    {
     "name": "stdout",
     "output_type": "stream",
     "text": [
      "chrI\t1\t5\n",
      "\n",
      "chrI 1 5\n",
      "      0  1  2   3\n",
      "2  chrI  2  2   6\n",
      "3  chrI  3  3  20\n",
      "4  chrI  4  4  12\n",
      "chrI\t20\t30\n",
      "\n",
      "chrI 20 30\n",
      "       0   1   2   3\n",
      "21  chrI  21  21  13\n",
      "22  chrI  22  22   7\n",
      "23  chrI  23  23   9\n",
      "24  chrI  24  24   8\n",
      "25  chrI  25  25   6\n",
      "chrI\t40\t50\n",
      "chrI 40 50\n",
      "       0   1   2   3\n",
      "41  chrI  41  41  21\n",
      "42  chrI  42  42  15\n",
      "43  chrI  43  43   7\n",
      "44  chrI  44  44  28\n",
      "45  chrI  45  45  17\n"
     ]
    }
   ],
   "source": [
    "ROI=open(\"ROI.txt\",encoding='utf-8')\n",
    "for line in ROI:\n",
    "    print (line)\n",
    "    line =line.strip().split(\"\\t\")\n",
    "    chrm,start,finish=line[0],int(line[1]),int(line[2])\n",
    "    print (chrm,start,finish)\n",
    "    mask = bed[(bed[0] ==chrm) & (bed[1] > start)& (bed[1] < finish)]\n",
    "    print (mask.head())\n",
    "    bed.drop(mask.index,inplace=True)\n",
    "    \n",
    "\n"
   ]
  },
  {
   "cell_type": "code",
   "execution_count": 165,
   "id": "bb2d19d8-98d2-4a7d-80c2-0c87e4f52985",
   "metadata": {},
   "outputs": [
    {
     "data": {
      "text/html": [
       "<div>\n",
       "<style scoped>\n",
       "    .dataframe tbody tr th:only-of-type {\n",
       "        vertical-align: middle;\n",
       "    }\n",
       "\n",
       "    .dataframe tbody tr th {\n",
       "        vertical-align: top;\n",
       "    }\n",
       "\n",
       "    .dataframe thead th {\n",
       "        text-align: right;\n",
       "    }\n",
       "</style>\n",
       "<table border=\"1\" class=\"dataframe\">\n",
       "  <thead>\n",
       "    <tr style=\"text-align: right;\">\n",
       "      <th></th>\n",
       "      <th>0</th>\n",
       "      <th>1</th>\n",
       "      <th>2</th>\n",
       "      <th>3</th>\n",
       "    </tr>\n",
       "  </thead>\n",
       "  <tbody>\n",
       "    <tr>\n",
       "      <th>0</th>\n",
       "      <td>chrI</td>\n",
       "      <td>0</td>\n",
       "      <td>0</td>\n",
       "      <td>17</td>\n",
       "    </tr>\n",
       "    <tr>\n",
       "      <th>1</th>\n",
       "      <td>chrI</td>\n",
       "      <td>1</td>\n",
       "      <td>1</td>\n",
       "      <td>15</td>\n",
       "    </tr>\n",
       "    <tr>\n",
       "      <th>5</th>\n",
       "      <td>chrI</td>\n",
       "      <td>5</td>\n",
       "      <td>5</td>\n",
       "      <td>22</td>\n",
       "    </tr>\n",
       "    <tr>\n",
       "      <th>6</th>\n",
       "      <td>chrI</td>\n",
       "      <td>6</td>\n",
       "      <td>6</td>\n",
       "      <td>22</td>\n",
       "    </tr>\n",
       "    <tr>\n",
       "      <th>7</th>\n",
       "      <td>chrI</td>\n",
       "      <td>7</td>\n",
       "      <td>7</td>\n",
       "      <td>14</td>\n",
       "    </tr>\n",
       "  </tbody>\n",
       "</table>\n",
       "</div>"
      ],
      "text/plain": [
       "      0  1  2   3\n",
       "0  chrI  0  0  17\n",
       "1  chrI  1  1  15\n",
       "5  chrI  5  5  22\n",
       "6  chrI  6  6  22\n",
       "7  chrI  7  7  14"
      ]
     },
     "execution_count": 165,
     "metadata": {},
     "output_type": "execute_result"
    }
   ],
   "source": [
    "bed.head()"
   ]
  },
  {
   "cell_type": "code",
   "execution_count": null,
   "id": "32244f6a-ac49-48e8-8a07-22993f21cbcc",
   "metadata": {},
   "outputs": [],
   "source": []
  },
  {
   "cell_type": "code",
   "execution_count": null,
   "id": "baa75e5b-3af4-44d1-a775-04d4bdee312b",
   "metadata": {},
   "outputs": [],
   "source": []
  },
  {
   "cell_type": "code",
   "execution_count": null,
   "id": "31f729ec-5124-4313-a075-ac878fa52698",
   "metadata": {},
   "outputs": [],
   "source": []
  }
 ],
 "metadata": {
  "kernelspec": {
   "display_name": "Python 3",
   "language": "python",
   "name": "python3"
  },
  "language_info": {
   "codemirror_mode": {
    "name": "ipython",
    "version": 3
   },
   "file_extension": ".py",
   "mimetype": "text/x-python",
   "name": "python",
   "nbconvert_exporter": "python",
   "pygments_lexer": "ipython3",
   "version": "3.8.8"
  }
 },
 "nbformat": 4,
 "nbformat_minor": 5
}
